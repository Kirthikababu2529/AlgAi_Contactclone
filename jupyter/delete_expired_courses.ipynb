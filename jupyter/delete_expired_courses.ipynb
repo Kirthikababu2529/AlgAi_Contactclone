{
 "cells": [
  {
   "cell_type": "code",
   "execution_count": 6,
   "metadata": {},
   "outputs": [
    {
     "name": "stdout",
     "output_type": "stream",
     "text": [
      "Expired courses deleted successfully.\n"
     ]
    }
   ],
   "source": [
    "import mysql.connector\n",
    "from datetime import datetime\n",
    "\n",
    "# Function to delete expired courses\n",
    "def delete_expired_courses(conn):\n",
    "    # Get current date\n",
    "    current_date = datetime.now().strftime('%Y-%m-%d')  # Change the format if needed\n",
    "\n",
    "    # Select courses with dates earlier than the current date\n",
    "    select_sql = \"SELECT * FROM coursemmt WHERE enddate < %s\"\n",
    "    cursor = conn.cursor()\n",
    "    cursor.execute(select_sql, (current_date,))\n",
    "    result = cursor.fetchall()\n",
    "\n",
    "    # Check if there are rows to delete\n",
    "    if result:\n",
    "        # Delete the expired courses\n",
    "        delete_sql = \"DELETE FROM coursemmt WHERE enddate < %s\"\n",
    "        cursor.execute(delete_sql, (current_date,))\n",
    "        conn.commit()\n",
    "\n",
    "        print(\"Expired courses deleted successfully.\")\n",
    "    else:\n",
    "        print(\"No expired courses found.\")\n",
    "\n",
    "    cursor.close()\n",
    "    conn.close()\n",
    "\n",
    "# Database connection configuration\n",
    "config = {\n",
    "    'user': 'root',\n",
    "    'password': '2001',\n",
    "    'host': '192.168.1.13',\n",
    "    'database': 'elearning2'\n",
    "}\n",
    "\n",
    "# Create a database connection\n",
    "conn = mysql.connector.connect(**config)\n",
    "\n",
    "# Call the function to delete expired courses\n",
    "delete_expired_courses(conn)\n"
   ]
  }
 ],
 "metadata": {
  "kernelspec": {
   "display_name": "Python 3",
   "language": "python",
   "name": "python3"
  },
  "language_info": {
   "codemirror_mode": {
    "name": "ipython",
    "version": 3
   },
   "file_extension": ".py",
   "mimetype": "text/x-python",
   "name": "python",
   "nbconvert_exporter": "python",
   "pygments_lexer": "ipython3",
   "version": "3.12.3"
  }
 },
 "nbformat": 4,
 "nbformat_minor": 2
}
